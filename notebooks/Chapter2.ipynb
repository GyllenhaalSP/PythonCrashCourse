{
 "cells": [
  {
   "cell_type": "markdown",
   "metadata": {},
   "source": [
    "# Variables and Simple Data Types\n",
    "## Variables\n",
    "\n",
    "One important aspect of variables is that you can change their value at any time in your program, and Python will always keep track of their current value. This flexibility allows you to update and manipulate data as needed throughout your code.\n",
    "\n",
    "## Naming and Using Variables\n",
    "When working with variables in Python, there are important rules and guidelines to follow. These include:\n",
    "- Variable names can only contain letters, numbers, and underscores. They must start with a letter or an underscore, but not with a number.\n",
    "- Spaces are not allowed in variable names, but underscores can be used to separate words.\n",
    "- Avoid using Python keywords and function names as variable names.\n",
    "- Variable names should be short but descriptive, making them easier to understand.\n",
    "- Be cautious when using the lowercase letter 'l' and the uppercase letter 'O' as they can be mistaken for the numbers 1 and 0.\n",
    "\n",
    "By adhering to these rules and guidelines, you can write code that is error-free, readable, and maintainable. With practice, you will become better at creating meaningful variable names as your programs become more complex."
   ]
  },
  {
   "cell_type": "code",
   "execution_count": null,
   "metadata": {},
   "outputs": [],
   "source": [
    "message = \"Hello Python world!\"\n",
    "print(message)\n",
    "\n",
    "messagge = \"Hello Python Crash Course!\"\n",
    "print(messagge)\n"
   ]
  },
  {
   "cell_type": "markdown",
   "metadata": {},
   "source": [
    "## Avoid Name Errors\n",
    "When working with variables in Python, it's important to avoid name errors. Name errors occur when a variable is referenced before it is defined or when there is a spelling mistake in the variable name."
   ]
  },
  {
   "cell_type": "code",
   "execution_count": null,
   "metadata": {},
   "outputs": [],
   "source": [
    "print(mesage)\n"
   ]
  },
  {
   "cell_type": "markdown",
   "metadata": {},
   "source": [
    "To fix name errors, you can follow these steps:\n",
    "\n",
    "1. Check if the variable is defined before using it.\n",
    "1. Verify the spelling of the variable name and ensure it matches the defined variable.\n",
    "\n",
    "Remember that Python does not spellcheck your code, so it's important to be careful with variable names and ensure consistency.\n",
    "\n",
    "## Variables are labels\n",
    "Understanding that variables in Python are labels that can be assigned to values is crucial. This concept helps in understanding how variables work internally and can help identify unexpected behavior in your code. It can also be said that a variable, or label, `references` a certain value.\n"
   ]
  },
  {
   "cell_type": "code",
   "execution_count": null,
   "metadata": {},
   "outputs": [],
   "source": [
    "message = \"Hello Python Crash Course reader!\"\n",
    "print(message)\n",
    "\n",
    "message = \"Bye Python Crash Course reader!\"\n",
    "print(message)\n"
   ]
  },
  {
   "cell_type": "markdown",
   "metadata": {},
   "source": [
    "## Strings\n",
    "A `string` is a series of characters. Anything inside quotes is considered a string in Python, either single or double quotes."
   ]
  },
  {
   "cell_type": "code",
   "execution_count": null,
   "metadata": {},
   "outputs": [],
   "source": [
    "'this is a string'\n",
    "\"this is also a string\"\n",
    "\"this is a string with a ' in it\"\n",
    "'this is a string with a \" in it'\n",
    "\n",
    "name = \"ada lovelace\"\n",
    "print(name)\n"
   ]
  },
  {
   "cell_type": "markdown",
   "metadata": {},
   "source": [
    "### Changing Case with Methods\n",
    "\n",
    "To summarize, in the given example, the variable `name` refers to the lowercase string \"ada lovelace\". The `title()` method is used to change each word in the string to title case, where each word begins with a capital letter. This is useful for treating names as pieces of information and ensuring consistency. Other methods available for dealing with case include `upper()` to convert the string to all uppercase letters and `lower()` to convert it to all lowercase letters."
   ]
  },
  {
   "cell_type": "code",
   "execution_count": null,
   "metadata": {},
   "outputs": [],
   "source": [
    "print(name.title())\n",
    "print(name.upper())\n",
    "print(name.lower())\n"
   ]
  },
  {
   "cell_type": "markdown",
   "metadata": {},
   "source": [
    "### Using Variables in Strings\n",
    "\n",
    "Variables can be inserted into strings by using `f-strings`. "
   ]
  },
  {
   "cell_type": "code",
   "execution_count": null,
   "metadata": {},
   "outputs": [],
   "source": [
    "first_name = \"ada\"\n",
    "last_name = \"lovelace\"\n",
    "full_name = f\"{first_name} {last_name}\"\n",
    "print(full_name)\n",
    "\n",
    "message = f\"Hello, {full_name.title()}!\"\n",
    "print(message)\n"
   ]
  },
  {
   "cell_type": "markdown",
   "metadata": {},
   "source": [
    "### Adding Whitespace with Tabs or Newlines\n",
    "Whitespace refers to any nonprintin characters, such as spaces, tabs, and EOL symbols.\n",
    "- \\t is used for tabs\n",
    "- \\n is used for newlines\n"
   ]
  },
  {
   "cell_type": "code",
   "execution_count": null,
   "metadata": {},
   "outputs": [],
   "source": [
    "print(\"Python\\n\")\n",
    "print(\"\\tPython\\n\")\n",
    "print(\"Languages:\\nPython\\nC#\\nJavaScript\\n\")\n",
    "print(\"Languages:\\n\\tPython\\n\\tC#\\n\\tJavaScript\\n\")\n"
   ]
  },
  {
   "cell_type": "markdown",
   "metadata": {},
   "source": [
    "### Stripping Whitespace\n",
    "\n",
    "Whitespace is important in programming. Two seemingly identical strings with one of them having an extra whitespace character can make a comparison fail.\n",
    "Python has methods to remove any unwanted whitespace.\n",
    "- rstrip() - removes whitespace from the right side.\n",
    "- lstrip() - removes whitespace from the left side.\n",
    "- strip() - removes whitespace from boths sides."
   ]
  },
  {
   "cell_type": "code",
   "execution_count": null,
   "metadata": {},
   "outputs": [],
   "source": [
    "favorite_language = 'python '\n",
    "print(f\"'{favorite_language}'\")\n",
    "print(f\"'{favorite_language.rstrip()}'\")\n",
    "favorite_language = ' python'\n",
    "print(f\"'{favorite_language}'\")\n",
    "print(f\"'{favorite_language.lstrip()}'\")\n",
    "favorite_language = ' python '\n",
    "print(f\"'{favorite_language}'\")\n",
    "print(f\"'{favorite_language.strip()}'\")\n"
   ]
  },
  {
   "cell_type": "markdown",
   "metadata": {},
   "source": [
    "### Removing Prefixes\n",
    "\n",
    "`removeprefix(prefix_to_remove)` removes a prefix of your choice. It returns the string without the prefix. It has a counterpart: `removesuffix(suffix_to_remove)`. "
   ]
  },
  {
   "cell_type": "code",
   "execution_count": 44,
   "metadata": {},
   "outputs": [
    {
     "name": "stdout",
     "output_type": "stream",
     "text": [
      "www.dalonsolaz.dev\n"
     ]
    }
   ],
   "source": [
    "my_full_url = \"https://www.dalonsolaz.dev\"\n",
    "my_simple_url = my_full_url.removeprefix(\"https://\")\n",
    "print(my_simple_url)\n"
   ]
  },
  {
   "cell_type": "markdown",
   "metadata": {},
   "source": [
    "## Numbers\n",
    "### Integers\n",
    "You can add (+), subtract (-), multiply (*), and divide (/) integers in Python."
   ]
  },
  {
   "cell_type": "code",
   "execution_count": null,
   "metadata": {},
   "outputs": [],
   "source": [
    "num = 2 + 3\n",
    "print(f'2 + 3 = {num}')\n",
    "num = 3 - 2\n",
    "print(f'3 - 2 = {num}')\n",
    "num = 2 * 3\n",
    "print(f'2 * 3 = {num}')\n",
    "num = 3 / 2\n",
    "print(f'3 / 2 = {num}')\n"
   ]
  },
  {
   "cell_type": "markdown",
   "metadata": {},
   "source": [
    "### Floats\n",
    "Floats are numbers with a decimal point. Beware of precision!"
   ]
  },
  {
   "cell_type": "code",
   "execution_count": 39,
   "metadata": {},
   "outputs": [
    {
     "name": "stdout",
     "output_type": "stream",
     "text": [
      "0.1 + 0.1 = 0.2\n",
      "0.2 + 0.1 = 0.30000000000000004\n"
     ]
    }
   ],
   "source": [
    "num = 0.1 + 0.1\n",
    "print(f\"0.1 + 0.1 = {num}\")\n",
    "num = 0.2 + 0.1\n",
    "print(f\"0.2 + 0.1 = {num}\")\n"
   ]
  },
  {
   "cell_type": "markdown",
   "metadata": {},
   "source": [
    "### Integers and Floats\n",
    "Divisions always return a float.\n",
    "\n",
    "To get integer truncated results, `//` integer division can be used."
   ]
  },
  {
   "cell_type": "code",
   "execution_count": 40,
   "metadata": {},
   "outputs": [
    {
     "name": "stdout",
     "output_type": "stream",
     "text": [
      "4/2 = 2.0\n",
      "7/3 = 2.3333333333333335\n",
      "4//2 = 2\n",
      "7//3 = 2\n"
     ]
    }
   ],
   "source": [
    "num = 4/2\n",
    "print(f\"4/2 = {num}\")\n",
    "num = 7/3\n",
    "print(f\"7/3 = {num}\")\n",
    "num = 4//2\n",
    "print(f\"4//2 = {num}\")\n",
    "num = 7//3\n",
    "print(f\"7//3 = {num}\")\n"
   ]
  },
  {
   "cell_type": "markdown",
   "metadata": {},
   "source": [
    "### Underscores in Numbers\n",
    "To make large numbers more readable, they can be grouped with underscores. Python ignores these underscores when storing the number."
   ]
  },
  {
   "cell_type": "code",
   "execution_count": 42,
   "metadata": {},
   "outputs": [
    {
     "name": "stdout",
     "output_type": "stream",
     "text": [
      "universe_age = 14000000000\n"
     ]
    }
   ],
   "source": [
    "universe_age = 14_000_000_000\n",
    "print(f'universe_age = {universe_age}')\n"
   ]
  },
  {
   "cell_type": "markdown",
   "metadata": {},
   "source": [
    "### Multiple Assignment\n",
    "Batch assigning values to variables can be done for shortening and readability purposes. "
   ]
  },
  {
   "cell_type": "code",
   "execution_count": 43,
   "metadata": {},
   "outputs": [
    {
     "name": "stdout",
     "output_type": "stream",
     "text": [
      "x = 0\n",
      "y = 0\n",
      "z = 0\n"
     ]
    }
   ],
   "source": [
    "x, y, z = 0, 0, 0\n",
    "print(f\"x = {x}\")\n",
    "print(f\"y = {y}\")\n",
    "print(f\"z = {z}\")\n"
   ]
  },
  {
   "cell_type": "markdown",
   "metadata": {},
   "source": [
    "### Constants\n",
    "A `constant` is a variable whose value stays the same throughout the execution of a program. Python does not support constant types so convention is that all capital letters names indicate a variable should never be changed."
   ]
  },
  {
   "cell_type": "code",
   "execution_count": 45,
   "metadata": {},
   "outputs": [
    {
     "name": "stdout",
     "output_type": "stream",
     "text": [
      "MAX_CONNECTIONS = 5000\n"
     ]
    }
   ],
   "source": [
    "MAX_CONNECTIONS = 5000\n",
    "print(f\"MAX_CONNECTIONS = {MAX_CONNECTIONS}\")\n"
   ]
  }
 ],
 "metadata": {
  "kernelspec": {
   "display_name": ".venv",
   "language": "python",
   "name": "python3"
  },
  "language_info": {
   "codemirror_mode": {
    "name": "ipython",
    "version": 3
   },
   "file_extension": ".py",
   "mimetype": "text/x-python",
   "name": "python",
   "nbconvert_exporter": "python",
   "pygments_lexer": "ipython3",
   "version": "3.12.1"
  }
 },
 "nbformat": 4,
 "nbformat_minor": 2
}
